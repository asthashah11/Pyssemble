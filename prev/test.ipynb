{
 "cells": [
  {
   "cell_type": "code",
   "execution_count": 2,
   "metadata": {},
   "outputs": [],
   "source": [
    "test_code1= \"\"\"\n",
    "partition:\n",
    "  slli a3, a2, 2\n",
    "  add a3, a3, a0\n",
    "  lw a5, 0(a3)\n",
    "  slli a4, a1, 2\n",
    "  add a4, a0, a4\n",
    "  addi a6, a4, 0\n",
    "loop:\n",
    "  lw a7, 0(a6)\n",
    "  bgt a7, a5, newif\n",
    "  lw t0, 0(a4)\n",
    "  sw a7, 0(a4)\n",
    "  sw t0, 0(a6)\n",
    "  addi a4, a4, 4\n",
    "newif:\n",
    "  addi a6, a6, 4\n",
    "  bgt a3, a6, loop\n",
    "  lw t0, 0(a4)\n",
    "  sw a5, 0(a4)\n",
    "  sw t0, 0(a3)\n",
    "  sub a0, a4, a0\n",
    "  srai a0, a0, 2\n",
    "  ret\n",
    "\"\"\""
   ]
  },
  {
   "cell_type": "code",
   "execution_count": 1,
   "metadata": {},
   "outputs": [
    {
     "name": "stdout",
     "output_type": "stream",
     "text": [
      "Instruction: MOV\tArguments: R1, 10\n",
      "Instruction: ADD\tArguments: R2, R1, 5\n",
      "Instruction: SUB\tArguments: R3, R2, 3\n"
     ]
    }
   ],
   "source": [
    "import re\n",
    "\n",
    "\n",
    "def parse_assembly_code(assembly_code):\n",
    "    instructions = []\n",
    "    lines = assembly_code.split('\\n')\n",
    "\n",
    "    for line in lines:\n",
    "        line = line.strip()\n",
    "\n",
    "        # Skip empty lines and comments\n",
    "        if not line or line.startswith(';'):\n",
    "            continue\n",
    "\n",
    "        # Split the line into instruction and arguments\n",
    "        parts = re.split(r'\\s+', line, maxsplit=1)\n",
    "        instruction = parts[0]\n",
    "        arguments = parts[1] if len(parts) > 1 else ''\n",
    "\n",
    "        # Store the parsed instruction and arguments\n",
    "        instructions.append((instruction, arguments))\n",
    "\n",
    "    return instructions\n",
    "\n",
    "\n",
    "# Example usage\n",
    "assembly_code = \"\"\"\n",
    "    MOV R1, 10\n",
    "    ADD R2, R1, 5\n",
    "    SUB R3, R2, 3\n",
    "\"\"\"\n",
    "\n",
    "parsed_instructions = parse_assembly_code(assembly_code)\n",
    "for instruction, arguments in parsed_instructions:\n",
    "    print(f\"Instruction: {instruction}\\tArguments: {arguments}\")\n"
   ]
  },
  {
   "cell_type": "code",
   "execution_count": 5,
   "metadata": {},
   "outputs": [],
   "source": [
    "def parser(code:str)->None:\n",
    "    lines = code.split('\\n')\n",
    "    instructions = []; labels = {}\n",
    "    for index, line in enumerate(lines):\n",
    "        if line.strip():\n",
    "            if line[-1] == ':':\n",
    "                labels[line[:-1]] = index\n",
    "            elif line == 'ret':\n",
    "                pass\n",
    "            instruction = line.split()\n",
    "            id = instruction[0]\n",
    "            args = instruction[1:]\n",
    "            if inst.process_grammar(id, args):\n",
    "                pass\n",
    "            else:\n",
    "                raise Exception\n",
    "    return inst"
   ]
  },
  {
   "cell_type": "code",
   "execution_count": 74,
   "metadata": {},
   "outputs": [],
   "source": [
    "class AssemblyGrammer:\n",
    "    is_reg = lambda index: lambda args : reg_valid(args[index]) or args[index] in reg_map\n",
    "    is_reg_all = lambda args: all([reg_valid(arg) or arg in reg_map for arg in args])\n",
    "    arg_length = lambda length: lambda args: len(args) == length"
   ]
  },
  {
   "cell_type": "code",
   "execution_count": 71,
   "metadata": {},
   "outputs": [
    {
     "data": {
      "text/plain": [
       "True"
      ]
     },
     "execution_count": 71,
     "metadata": {},
     "output_type": "execute_result"
    }
   ],
   "source": [
    "AssemblyGrammer.is_reg_all(['x0'])"
   ]
  },
  {
   "cell_type": "code",
   "execution_count": 77,
   "metadata": {},
   "outputs": [],
   "source": [
    "class InstructionSet:\n",
    "    def __init__(self, ):\n",
    "        self.instructions = {}\n",
    "        self.grammar = {}\n",
    "    def add_instruction(self, identifier, grammar, function):\n",
    "        self.instructions[identifier] = function\n",
    "        self.grammar[identifier] = grammar\n",
    "    def process_grammar(self, id, arguments):\n",
    "        return all(\n",
    "            [\n",
    "                rule(arguments) for rule in self.grammar[id]\n",
    "            ]\n",
    "        )\n",
    "    def apply_function():\n",
    "        pass\n",
    "    def execute(self, id, arguments):\n",
    "        if \n"
   ]
  },
  {
   "cell_type": "code",
   "execution_count": 75,
   "metadata": {},
   "outputs": [],
   "source": [
    "inst = InstructionSet()\n",
    "def add_assembly(args):\n",
    "    regs[args[0]] = regs[args[1]] + regs[args[2]]\n",
    "inst.add_instruction(\n",
    "    'add',\n",
    "    [\n",
    "        AssemblyGrammer.is_reg_all,\n",
    "        AssemblyGrammer.arg_length(3),\n",
    "    ],\n",
    "    add_assembly\n",
    ")"
   ]
  },
  {
   "cell_type": "code",
   "execution_count": null,
   "metadata": {},
   "outputs": [],
   "source": []
  },
  {
   "cell_type": "code",
   "execution_count": 6,
   "metadata": {},
   "outputs": [
    {
     "data": {
      "text/plain": [
       "[['partition:'],\n",
       " ['slli', 'a3,', 'a2,', '2'],\n",
       " ['add', 'a3,', 'a3,', 'a0'],\n",
       " ['lw', 'a5,', '0(a3)'],\n",
       " ['slli', 'a4,', 'a1,', '2'],\n",
       " ['add', 'a4,', 'a0,', 'a4'],\n",
       " ['addi', 'a6,', 'a4,', '0'],\n",
       " ['loop:'],\n",
       " ['lw', 'a7,', '0(a6)'],\n",
       " ['bgt', 'a7,', 'a5,', 'newif'],\n",
       " ['lw', 't0,', '0(a4)'],\n",
       " ['sw', 'a7,', '0(a4)'],\n",
       " ['sw', 't0,', '0(a6)'],\n",
       " ['addi', 'a4,', 'a4,', '4'],\n",
       " ['newif:'],\n",
       " ['addi', 'a6,', 'a6,', '4'],\n",
       " ['bgt', 'a3,', 'a6,', 'loop'],\n",
       " ['lw', 't0,', '0(a4)'],\n",
       " ['sw', 'a5,', '0(a4)'],\n",
       " ['sw', 't0,', '0(a3)'],\n",
       " ['sub', 'a0,', 'a4,', 'a0'],\n",
       " ['srai', 'a0,', 'a0,', '2'],\n",
       " ['ret']]"
      ]
     },
     "execution_count": 6,
     "metadata": {},
     "output_type": "execute_result"
    }
   ],
   "source": [
    "parser(test_code1)"
   ]
  },
  {
   "cell_type": "code",
   "execution_count": null,
   "metadata": {},
   "outputs": [],
   "source": [
    "label(Partition)"
   ]
  },
  {
   "cell_type": "code",
   "execution_count": null,
   "metadata": {},
   "outputs": [],
   "source": [
    "LUI = lambda arg : lshift(arg)\n",
    "ADD = lambda args : regs[args[0]] + regs[args[1]]\n",
    "\n"
   ]
  },
  {
   "cell_type": "code",
   "execution_count": 9,
   "metadata": {},
   "outputs": [],
   "source": [
    "class Memory:\n",
    "    def __init__(self, memory_size=100):\n",
    "        self.memory = {}\n",
    "        self.size = 0\n",
    "    def __getitem__(self, address):\n",
    "        return self.memory[address]\n",
    "    def __setitem__(self, address, value):\n",
    "        self.memory[address] = value"
   ]
  },
  {
   "cell_type": "code",
   "execution_count": 88,
   "metadata": {},
   "outputs": [],
   "source": [
    "class RegisterSet:\n",
    "    def __init__(self):\n",
    "        self.registers = [0]*32\n",
    "    def reg_to_index(self, reg):\n",
    "        if isinstance(reg, RegIndex):\n",
    "            return reg.num\n",
    "        if reg_valid(reg):\n",
    "            index = int(reg[1:])\n",
    "        elif reg in reg_map:\n",
    "            index = int(reg_map[reg][1:])\n",
    "        else:\n",
    "            raise Exception\n",
    "        return index\n",
    "    def __getitem__(self, reg):\n",
    "        index = self.reg_to_index(reg)\n",
    "        return self.registers[index]\n",
    "    def __setitem__(self,reg ,value):\n",
    "        index = self.reg_to_index(reg)\n",
    "        self.registers[index] = value"
   ]
  },
  {
   "cell_type": "code",
   "execution_count": 52,
   "metadata": {},
   "outputs": [],
   "source": [
    "regs = Register()"
   ]
  },
  {
   "cell_type": "code",
   "execution_count": 61,
   "metadata": {},
   "outputs": [
    {
     "data": {
      "text/plain": [
       "5"
      ]
     },
     "execution_count": 61,
     "metadata": {},
     "output_type": "execute_result"
    }
   ],
   "source": [
    "regs['gp']"
   ]
  },
  {
   "cell_type": "code",
   "execution_count": 25,
   "metadata": {},
   "outputs": [],
   "source": [
    "aa = [f'x{i}' for i in range(32)]"
   ]
  },
  {
   "cell_type": "code",
   "execution_count": 54,
   "metadata": {},
   "outputs": [],
   "source": [
    "import re\n",
    "\n",
    "def reg_valid(reg):\n",
    "    pattern = r'^x([0-9]|[1-2]\\d|3[0-1])$'\n",
    "    return bool(re.match(pattern, reg))\n"
   ]
  },
  {
   "cell_type": "code",
   "execution_count": 50,
   "metadata": {},
   "outputs": [],
   "source": [
    "reg_map = {\n",
    "        'zero': 'x0',\n",
    "        'ra': 'x1',\n",
    "        'sp': 'x2',\n",
    "        'gp': 'x3',\n",
    "        'tp': 'x4',\n",
    "        't0': 'x5',\n",
    "        't1': 'x6',\n",
    "        't2': 'x7',\n",
    "        's0': 'x8',\n",
    "        's1': 'x9',\n",
    "        'a0': 'x10',\n",
    "        'a1': 'x11',\n",
    "        'a2': 'x12',\n",
    "        'a3': 'x13',\n",
    "        'a4': 'x14',\n",
    "        'a5': 'x15',\n",
    "        'a6': 'x16',\n",
    "        'a7': 'x17',\n",
    "        's2': 'x18',\n",
    "        's3': 'x19',\n",
    "        's4': 'x20',\n",
    "        's5': 'x21',\n",
    "        's6': 'x22',\n",
    "        's7': 'x23',\n",
    "        's8': 'x24',\n",
    "        's9': 'x25',\n",
    "        's10': 'x26',\n",
    "        's11': 'x27',\n",
    "        't3': 'x28',\n",
    "        't4': 'x29',\n",
    "        't5': 'x30',\n",
    "        't6': 'x31'\n",
    "    }"
   ]
  },
  {
   "cell_type": "code",
   "execution_count": 84,
   "metadata": {},
   "outputs": [],
   "source": [
    "class RegIndex:\n",
    "    def __init__(self, num):\n",
    "        self.num = num"
   ]
  },
  {
   "cell_type": "code",
   "execution_count": 85,
   "metadata": {},
   "outputs": [],
   "source": [
    "x0 = zero = RegIndex(0)\n",
    "x1 = ra = RegIndex(1)\n",
    "x2 = sp = RegIndex(2)\n",
    "x3 = gp = RegIndex(3)\n",
    "x4 = tp = RegIndex(4)\n",
    "x5 = t0 = RegIndex(5)\n",
    "x6 = t1 = RegIndex(6)\n",
    "x7 = t2 = RegIndex(7)\n",
    "x8 = s0 = RegIndex(8)\n",
    "x9 = s1 = RegIndex(9)\n",
    "x10 = a0 = RegIndex(10)\n",
    "x11 = a1 = RegIndex(11)\n",
    "x12 = a2 = RegIndex(12)\n",
    "x13 = a3 = RegIndex(13)\n",
    "x14 = a4 = RegIndex(14)\n",
    "x15 = a5 = RegIndex(15)\n",
    "x16 = a6 = RegIndex(16)\n",
    "x17 = a7 = RegIndex(17)\n",
    "x18 = s2 = RegIndex(18)\n",
    "x19 = s3 = RegIndex(19)\n",
    "x20 = s4 = RegIndex(20)\n",
    "x21 = s5 = RegIndex(21)\n",
    "x22 = s6 = RegIndex(22)\n",
    "x23 = s7 = RegIndex(23)\n",
    "x24 = s8 = RegIndex(24)\n",
    "x25 = s9 = RegIndex(25)\n",
    "x26 = s10 = RegIndex(26)\n",
    "x27 = s11 = RegIndex(27)\n",
    "x28 = t3 = RegIndex(28)\n",
    "x29 = t4 = RegIndex(29)\n",
    "x30 = t5 = RegIndex(30)\n",
    "x31 = t6 = RegIndex(31)"
   ]
  },
  {
   "cell_type": "code",
   "execution_count": null,
   "metadata": {},
   "outputs": [],
   "source": [
    "class Pyssemble:\n",
    "    def __init__(self):\n",
    "        self.regs = RegisterSet()\n",
    "        "
   ]
  },
  {
   "cell_type": "code",
   "execution_count": 109,
   "metadata": {},
   "outputs": [],
   "source": [
    "class pyInstruction:\n",
    "    regs = RegisterSet()\n",
    "    def __str__(self):\n",
    "        return 'b'\n",
    "    def __repr__(self):\n",
    "        return ''\n",
    "\n",
    "class add(pyInstruction):\n",
    "    def __init__(self, rd, rs1, rs2):\n",
    "        self.regs[rd] = self.regs[rs1] + self.regs[rs2]\n",
    "\n",
    "class li(pyInstruction):\n",
    "    def __init__(self, rd, constant):\n",
    "        self.regs[rd] = constant\n"
   ]
  },
  {
   "cell_type": "code",
   "execution_count": 110,
   "metadata": {},
   "outputs": [],
   "source": [
    "pyinst = pyInstruction()"
   ]
  },
  {
   "cell_type": "code",
   "execution_count": 111,
   "metadata": {},
   "outputs": [
    {
     "data": {
      "text/plain": [
       "a"
      ]
     },
     "execution_count": 111,
     "metadata": {},
     "output_type": "execute_result"
    }
   ],
   "source": [
    "li(a1, 5)\n",
    "add(a2, a1, zero)\n",
    "add(a1, a1, a2)"
   ]
  },
  {
   "cell_type": "code",
   "execution_count": 105,
   "metadata": {},
   "outputs": [
    {
     "data": {
      "text/plain": [
       "5"
      ]
     },
     "execution_count": 105,
     "metadata": {},
     "output_type": "execute_result"
    }
   ],
   "source": [
    "pyinst.regs[a2]"
   ]
  },
  {
   "cell_type": "code",
   "execution_count": 119,
   "metadata": {},
   "outputs": [
    {
     "data": {
      "text/plain": [
       "13"
      ]
     },
     "execution_count": 119,
     "metadata": {},
     "output_type": "execute_result"
    }
   ],
   "source": [
    "11 ^ 6"
   ]
  },
  {
   "cell_type": "code",
   "execution_count": null,
   "metadata": {},
   "outputs": [],
   "source": []
  }
 ],
 "metadata": {
  "kernelspec": {
   "display_name": "Python 3",
   "language": "python",
   "name": "python3"
  },
  "language_info": {
   "codemirror_mode": {
    "name": "ipython",
    "version": 3
   },
   "file_extension": ".py",
   "mimetype": "text/x-python",
   "name": "python",
   "nbconvert_exporter": "python",
   "pygments_lexer": "ipython3",
   "version": "3.10.5"
  },
  "orig_nbformat": 4
 },
 "nbformat": 4,
 "nbformat_minor": 2
}
